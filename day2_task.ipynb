{
  "cells": [
    {
      "cell_type": "code",
      "execution_count": 1,
      "metadata": {
        "colab": {
          "base_uri": "https://localhost:8080/"
        },
        "id": "uCuB_K0ZzUxw",
        "outputId": "57f88d78-a915-47d5-f89c-64d0c3ad9c5e"
      },
      "outputs": [
        {
          "name": "stdout",
          "output_type": "stream",
          "text": [
            "                        Review_Text  Sentiment\n",
            "0             This book is amazing!          1\n",
            "1              Not worth the money.          0\n",
            "2                I loved the story!          1\n",
            "3  Poor quality, very disappointed.          0\n",
            "4        The writing was beautiful.          1\n"
          ]
        }
      ],
      "source": [
        "import pandas as pd\n",
        "\n",
        "# Replace 'path_to_dataset.csv' with the uploaded file's name\n",
        "data = pd.read_csv(\"path_to_dataset.csv\", encoding= 'latin-1')\n",
        "print(data.head())"
      ]
    },
    {
      "cell_type": "markdown",
      "metadata": {
        "id": "IknCHOY4Y9Fk"
      },
      "source": []
    },
    {
      "cell_type": "code",
      "execution_count": 2,
      "metadata": {
        "colab": {
          "base_uri": "https://localhost:8080/"
        },
        "id": "WWy-mYOzzDJ8",
        "outputId": "e45c23a2-330e-408c-ab91-12a1e2f8acb7"
      },
      "outputs": [
        {
          "name": "stdout",
          "output_type": "stream",
          "text": [
            "Evaluating TF-IDF features\n",
            "Evaluating Word2Vec features\n",
            "TF-IDF Results:\n",
            "                     Accuracy  Precision  Recall  F1-Score\n",
            "Logistic Regression       0.0        1.0     0.0       0.0\n",
            "SVM                       0.0        1.0     0.0       0.0\n",
            "\n",
            "Word2Vec Results:\n",
            "                     Accuracy  Precision  Recall  F1-Score\n",
            "Logistic Regression       0.0        1.0     0.0       0.0\n",
            "SVM                       0.0        1.0     0.0       0.0\n"
          ]
        }
      ],
      "source": [
        "import pandas as pd\n",
        "import numpy as np\n",
        "import re\n",
        "from sklearn.model_selection import train_test_split\n",
        "from sklearn.feature_extraction.text import TfidfVectorizer\n",
        "from sklearn.linear_model import LogisticRegression\n",
        "from sklearn.svm import SVC\n",
        "from sklearn.metrics import accuracy_score, precision_score, recall_score, f1_score\n",
        "from gensim.models import Word2Vec\n",
        "\n",
        "data = pd.read_csv(\"path_to_dataset.csv\", encoding= 'latin-1')\n",
        "\n",
        "data.columns = [\"Review_Text\", \"Sentiment\"] # Renaming the selected columns\n",
        "\n",
        "# Step 2: Preprocess the Text\n",
        "def preprocess_text(text):\n",
        "    if not isinstance(text, str):\n",
        "        text = str(text)\n",
        "    text = text.lower()  # Convert to lowercase\n",
        "    text = re.sub(r'[^\\w\\s]', '', text)\n",
        "    return text\n",
        "\n",
        "data[\"Review_Text\"] = data[\"Review_Text\"].apply(preprocess_text)\n",
        "\n",
        "# ... (rest of the code remains the same)\n",
        "\n",
        "# Step 3: Feature Extraction\n",
        "# Option 1: TF-IDF\n",
        "tfidf_vectorizer = TfidfVectorizer(max_features=5000, stop_words='english')\n",
        "tfidf_features = tfidf_vectorizer.fit_transform(data[\"Review_Text\"])\n",
        "\n",
        "# Option 2: Word2Vec\n",
        "sentences = [review.split() for review in data[\"Review_Text\"]]\n",
        "word2vec_model = Word2Vec(sentences, vector_size=100, window=5, min_count=1, workers=4)\n",
        "\n",
        "def get_word2vec_features(text):\n",
        "    words = text.split()\n",
        "    vector = np.mean([word2vec_model.wv[word] for word in words if word in word2vec_model.wv] or [np.zeros(100)], axis=0)\n",
        "    return vector\n",
        "\n",
        "word2vec_features = np.array([get_word2vec_features(review) for review in data[\"Review_Text\"]])\n",
        "# Step 4: Train a Classifier\n",
        "def train_and_evaluate(features, labels):\n",
        "    X_train, X_test, y_train, y_test = train_test_split(features, labels, test_size=0.2, random_state=42)\n",
        "\n",
        "    # Using models that can handle dense feature vectors\n",
        "    models = {\n",
        "        \"Logistic Regression\": LogisticRegression(),\n",
        "        \"SVM\": SVC(),\n",
        "    }\n",
        "\n",
        "    results = {}\n",
        "    for model_name, model in models.items():\n",
        "        # Fit the model\n",
        "        model.fit(X_train, y_train)\n",
        "        y_pred = model.predict(X_test)\n",
        "\n",
        "        # Evaluate\n",
        "        accuracy = accuracy_score(y_test, y_pred)\n",
        "        # Changed 'binary' to 'weighted' for multiclass averaging\n",
        "        precision = precision_score(y_test, y_pred, average='weighted', zero_division=1)\n",
        "        recall = recall_score(y_test, y_pred, average='weighted', zero_division=1)\n",
        "        f1 = f1_score(y_test, y_pred, average='weighted', zero_division=1)\n",
        "\n",
        "        results[model_name] = {\n",
        "            \"Accuracy\": accuracy,\n",
        "            \"Precision\": precision,\n",
        "            \"Recall\": recall,\n",
        "            \"F1-Score\": f1,\n",
        "        }\n",
        "    return results\n",
        "# TF-IDF Model Results\n",
        "print(\"Evaluating TF-IDF features\")\n",
        "tfidf_results = train_and_evaluate(tfidf_features, data[\"Sentiment\"])\n",
        "\n",
        "# Word2Vec Model Results\n",
        "print(\"Evaluating Word2Vec features\")\n",
        "word2vec_results = train_and_evaluate(word2vec_features, data[\"Sentiment\"])\n",
        "\n",
        "# Step 5: Compare Results\n",
        "print(\"TF-IDF Results:\")\n",
        "print(pd.DataFrame(tfidf_results).T)\n",
        "\n",
        "print(\"\\nWord2Vec Results:\")\n",
        "print(pd.DataFrame(word2vec_results).T)\n",
        "\n"
      ]
    }
  ],
  "metadata": {
    "colab": {
      "provenance": []
    },
    "kernelspec": {
      "display_name": "Python 3",
      "name": "python3"
    },
    "language_info": {
      "name": "python"
    }
  },
  "nbformat": 4,
  "nbformat_minor": 0
}
