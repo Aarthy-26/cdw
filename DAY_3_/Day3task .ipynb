{
  "nbformat": 4,
  "nbformat_minor": 0,
  "metadata": {
    "colab": {
      "provenance": []
    },
    "kernelspec": {
      "name": "python3",
      "display_name": "Python 3"
    },
    "language_info": {
      "name": "python"
    }
  },
  "cells": [
    {
      "cell_type": "code",
      "execution_count": 2,
      "metadata": {
        "colab": {
          "base_uri": "https://localhost:8080/"
        },
        "id": "rBo4Q2NCD8-p",
        "outputId": "3e3616e0-fccd-42b6-8214-bfd5dfe0453a"
      },
      "outputs": [
        {
          "output_type": "stream",
          "name": "stdout",
          "text": [
            "/content\n",
            "Index(['message', 'label_ham', 'label_spam'], dtype='object')\n",
            "Epoch 1/5\n"
          ]
        },
        {
          "output_type": "stream",
          "name": "stderr",
          "text": [
            "/usr/local/lib/python3.11/dist-packages/keras/src/layers/core/embedding.py:90: UserWarning: Argument `input_length` is deprecated. Just remove it.\n",
            "  warnings.warn(\n"
          ]
        },
        {
          "output_type": "stream",
          "name": "stdout",
          "text": [
            "\u001b[1m38/38\u001b[0m \u001b[32m━━━━━━━━━━━━━━━━━━━━\u001b[0m\u001b[37m\u001b[0m \u001b[1m8s\u001b[0m 76ms/step - accuracy: 0.5068 - loss: 0.6945 - val_accuracy: 0.4767 - val_loss: 0.6939\n",
            "Epoch 2/5\n",
            "\u001b[1m38/38\u001b[0m \u001b[32m━━━━━━━━━━━━━━━━━━━━\u001b[0m\u001b[37m\u001b[0m \u001b[1m3s\u001b[0m 66ms/step - accuracy: 0.5065 - loss: 0.6944 - val_accuracy: 0.4767 - val_loss: 0.6943\n",
            "Epoch 3/5\n",
            "\u001b[1m38/38\u001b[0m \u001b[32m━━━━━━━━━━━━━━━━━━━━\u001b[0m\u001b[37m\u001b[0m \u001b[1m3s\u001b[0m 66ms/step - accuracy: 0.5185 - loss: 0.6931 - val_accuracy: 0.4767 - val_loss: 0.6944\n",
            "Epoch 4/5\n",
            "\u001b[1m38/38\u001b[0m \u001b[32m━━━━━━━━━━━━━━━━━━━━\u001b[0m\u001b[37m\u001b[0m \u001b[1m4s\u001b[0m 96ms/step - accuracy: 0.4758 - loss: 0.6948 - val_accuracy: 0.4767 - val_loss: 0.6933\n",
            "Epoch 5/5\n",
            "\u001b[1m38/38\u001b[0m \u001b[32m━━━━━━━━━━━━━━━━━━━━\u001b[0m\u001b[37m\u001b[0m \u001b[1m4s\u001b[0m 66ms/step - accuracy: 0.4774 - loss: 0.6965 - val_accuracy: 0.4767 - val_loss: 0.6946\n",
            "\u001b[1m10/10\u001b[0m \u001b[32m━━━━━━━━━━━━━━━━━━━━\u001b[0m\u001b[37m\u001b[0m \u001b[1m0s\u001b[0m 17ms/step - accuracy: 0.4523 - loss: 0.6958\n",
            "Test Accuracy: 47.67%\n",
            "\u001b[1m1/1\u001b[0m \u001b[32m━━━━━━━━━━━━━━━━━━━━\u001b[0m\u001b[37m\u001b[0m \u001b[1m0s\u001b[0m 230ms/step\n",
            "The message 'Congratulations! You've won a $1000 Walmart gift card. Call now!' is classified as: Ham\n"
          ]
        }
      ],
      "source": [
        "import pandas as pd\n",
        "import numpy as np\n",
        "from sklearn.model_selection import train_test_split\n",
        "from sklearn.preprocessing import LabelEncoder\n",
        "from tensorflow.keras.preprocessing.text import Tokenizer\n",
        "from tensorflow.keras.preprocessing.sequence import pad_sequences\n",
        "from tensorflow.keras.models import Sequential\n",
        "from tensorflow.keras.layers import Embedding, LSTM, Dense, Dropout\n",
        "from sklearn.metrics import accuracy_score\n",
        "import os\n",
        "\n",
        "print(os.getcwd())\n",
        "\n",
        "dataset_path = \"/content/Spam-Classification.csv\"\n",
        "data = pd.read_csv(dataset_path)\n",
        "\n",
        "\n",
        "data.rename(columns={\"CLASS\": \"label\", \"SMS\": \"message\"}, inplace=True)\n",
        "\n",
        "data = pd.get_dummies(data, columns=[\"label\"], prefix=[\"label\"])\n",
        "\n",
        "print(data.columns)\n",
        "\n",
        "messages = data['message']\n",
        "labels = data[['label_ham', 'label_spam']]\n",
        "\n",
        "X_train, X_test, y_train, y_test = train_test_split(messages, labels, test_size=0.2, random_state=42)\n",
        "\n",
        "tokenizer = Tokenizer(num_words=10000, oov_token=\"<OOV>\")\n",
        "tokenizer.fit_on_texts(X_train)\n",
        "\n",
        "X_train_sequences = tokenizer.texts_to_sequences(X_train)\n",
        "X_test_sequences = tokenizer.texts_to_sequences(X_test)\n",
        "\n",
        "max_length = 100\n",
        "X_train_padded = pad_sequences(X_train_sequences, maxlen=max_length, padding=\"post\", truncating=\"post\")\n",
        "X_test_padded = pad_sequences(X_test_sequences, maxlen=max_length, padding=\"post\", truncating=\"post\")\n",
        "\n",
        "model = Sequential([\n",
        "    Embedding(input_dim=10000, output_dim=64, input_length=max_length),\n",
        "    LSTM(64, return_sequences=False),\n",
        "    Dropout(0.5),\n",
        "    Dense(32, activation='relu'),\n",
        "    Dropout(0.5),\n",
        "    Dense(2, activation='softmax')\n",
        "])\n",
        "\n",
        "model.compile(optimizer='adam', loss='categorical_crossentropy', metrics=['accuracy'])\n",
        "\n",
        "model.fit(X_train_padded, y_train, epochs=5, batch_size=32, validation_data=(X_test_padded, y_test))\n",
        "\n",
        "loss, accuracy = model.evaluate(X_test_padded, y_test)\n",
        "print(f\"Test Accuracy: {accuracy * 100:.2f}%\")\n",
        "\n",
        "def predict_message(message):\n",
        "    sequence = tokenizer.texts_to_sequences([message])\n",
        "    padded_sequence = pad_sequences(sequence, maxlen=max_length, padding=\"post\", truncating=\"post\")\n",
        "    prediction = model.predict(padded_sequence)[0]\n",
        "    return \"Spam\" if prediction[1] > prediction[0] else \"Ham\"\n",
        "\n",
        "sample_message = \"Congratulations! You've won a $1000 Walmart gift card. Call now!\"\n",
        "result = predict_message(sample_message)\n",
        "print(f\"The message '{sample_message}' is classified as: {result}\")"
      ]
    }
  ]
}