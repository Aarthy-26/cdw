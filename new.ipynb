{
 "cells": [
  {
   "cell_type": "markdown",
   "metadata": {},
   "source": [
    "##tokenization\n"
   ]
  },
  {
   "cell_type": "code",
   "execution_count": 39,
   "metadata": {},
   "outputs": [
    {
     "name": "stdout",
     "output_type": "stream",
     "text": [
      "['technology has become an integral part of our lives, shaping the way we work, communicate, and solve problems.', 'from the simplicity of automating mundane tasks to the complexity of advanced artificial intelligence systems, innovation continues to redefine our capabilities.', 'in fields like healthcare, robotics, and education, technology bridges gaps and creates opportunities that once seemed unimaginable.', 'however, as we embrace these advancements, it is equally important to consider their ethical implications and strive for a balance that benefits society as a whole.', 'by harnessing the power of technology responsibly, we can pave the way for a future that is not only efficient but also inclusive and sustainable.']\n",
      "['technology', 'has', 'become', 'an', 'integral', 'part', 'of', 'our', 'lives', ',', 'shaping', 'the', 'way', 'we', 'work', ',', 'communicate', ',', 'and', 'solve', 'problems', '.', 'from', 'the', 'simplicity', 'of', 'automating', 'mundane', 'tasks', 'to', 'the', 'complexity', 'of', 'advanced', 'artificial', 'intelligence', 'systems', ',', 'innovation', 'continues', 'to', 'redefine', 'our', 'capabilities', '.', 'in', 'fields', 'like', 'healthcare', ',', 'robotics', ',', 'and', 'education', ',', 'technology', 'bridges', 'gaps', 'and', 'creates', 'opportunities', 'that', 'once', 'seemed', 'unimaginable', '.', 'however', ',', 'as', 'we', 'embrace', 'these', 'advancements', ',', 'it', 'is', 'equally', 'important', 'to', 'consider', 'their', 'ethical', 'implications', 'and', 'strive', 'for', 'a', 'balance', 'that', 'benefits', 'society', 'as', 'a', 'whole', '.', 'by', 'harnessing', 'the', 'power', 'of', 'technology', 'responsibly', ',', 'we', 'can', 'pave', 'the', 'way', 'for', 'a', 'future', 'that', 'is', 'not', 'only', 'efficient', 'but', 'also', 'inclusive', 'and', 'sustainable', '.']\n"
     ]
    },
    {
     "name": "stderr",
     "output_type": "stream",
     "text": [
      "[nltk_data] Downloading package punkt_tab to\n",
      "[nltk_data]     C:\\Users\\Administrator\\AppData\\Roaming\\nltk_data...\n",
      "[nltk_data]   Package punkt_tab is already up-to-date!\n"
     ]
    }
   ],
   "source": [
    "import nltk\n",
    "nltk.download('punkt_tab')\n",
    "from nltk.tokenize import sent_tokenize, word_tokenize\n",
    "from nltk.stem import PorterStemmer\n",
    "\n",
    "mytext = \"\"\"Technology has become an integral part of our lives, shaping the way we work, communicate, and solve problems. From the simplicity of automating mundane tasks to the complexity of advanced artificial intelligence systems, innovation continues to redefine our capabilities. In fields like healthcare, robotics, and education, technology bridges gaps and creates opportunities that once seemed unimaginable. However, as we embrace these advancements, it is equally important to consider their ethical implications and strive for a balance that benefits society as a whole. By harnessing the power of technology responsibly, we can pave the way for a future that is not only efficient but also inclusive and sustainable.\"\"\"\n",
    "\n",
    "mytext=mytext.lower()\n",
    "sentence= sent_tokenize(mytext)\n",
    "print(sentence)\n",
    "\n",
    "b= word_tokenize(mytext)\n",
    "print(b)\n",
    "\n",
    "\n"
   ]
  },
  {
   "cell_type": "code",
   "execution_count": 40,
   "metadata": {},
   "outputs": [],
   "source": [
    "import nltk\n",
    "import pandas as pd\n",
    "from nltk.stem import PorterStemmer\n",
    "\n",
    "d = PorterStemmer()"
   ]
  },
  {
   "cell_type": "code",
   "execution_count": 41,
   "metadata": {},
   "outputs": [
    {
     "data": {
      "text/html": [
       "<div>\n",
       "<style scoped>\n",
       "    .dataframe tbody tr th:only-of-type {\n",
       "        vertical-align: middle;\n",
       "    }\n",
       "\n",
       "    .dataframe tbody tr th {\n",
       "        vertical-align: top;\n",
       "    }\n",
       "\n",
       "    .dataframe thead th {\n",
       "        text-align: right;\n",
       "    }\n",
       "</style>\n",
       "<table border=\"1\" class=\"dataframe\">\n",
       "  <thead>\n",
       "    <tr style=\"text-align: right;\">\n",
       "      <th></th>\n",
       "      <th>ori</th>\n",
       "      <th>new</th>\n",
       "    </tr>\n",
       "  </thead>\n",
       "  <tbody>\n",
       "    <tr>\n",
       "      <th>0</th>\n",
       "      <td>connect</td>\n",
       "      <td>connect</td>\n",
       "    </tr>\n",
       "    <tr>\n",
       "      <th>1</th>\n",
       "      <td>connecting</td>\n",
       "      <td>connect</td>\n",
       "    </tr>\n",
       "    <tr>\n",
       "      <th>2</th>\n",
       "      <td>conect</td>\n",
       "      <td>conect</td>\n",
       "    </tr>\n",
       "    <tr>\n",
       "      <th>3</th>\n",
       "      <td>connected</td>\n",
       "      <td>connect</td>\n",
       "    </tr>\n",
       "    <tr>\n",
       "      <th>4</th>\n",
       "      <td>connection</td>\n",
       "      <td>connect</td>\n",
       "    </tr>\n",
       "  </tbody>\n",
       "</table>\n",
       "</div>"
      ],
      "text/plain": [
       "          ori      new\n",
       "0     connect  connect\n",
       "1  connecting  connect\n",
       "2      conect   conect\n",
       "3   connected  connect\n",
       "4  connection  connect"
      ]
     },
     "execution_count": 41,
     "metadata": {},
     "output_type": "execute_result"
    }
   ],
   "source": [
    "words=[\"connect\",\"connecting\",\"conect\",\"connected\",\"connection\"]\n",
    "stemmer= [d.stem(word=word) for word in words]\n",
    "\n",
    "stemdf =pd.DataFrame({\"ori\":words, \"new\":stemmer})\n",
    "stemdf"
   ]
  },
  {
   "cell_type": "code",
   "execution_count": 42,
   "metadata": {},
   "outputs": [
    {
     "name": "stderr",
     "output_type": "stream",
     "text": [
      "[nltk_data] Downloading package wordnet to\n",
      "[nltk_data]     C:\\Users\\Administrator\\AppData\\Roaming\\nltk_data...\n"
     ]
    },
    {
     "name": "stdout",
     "output_type": "stream",
     "text": [
      "['trouble', 'troubling', 'troubled', 'troubles', 'dogs', 'cats'] ['trouble', 'trouble', 'trouble', 'trouble', 'dog', 'cat']\n"
     ]
    }
   ],
   "source": [
    "from nltk.stem import WordNetLemmatizer\n",
    "nltk.download('wordnet')\n",
    "\n",
    "# init lemmatizer\n",
    "lemmatizer = WordNetLemmatizer()\n",
    "words=[\"trouble\",\"troubling\",\"troubled\",\"troubles\",\"dogs\", \"cats\"]\n",
    "lemmatized_words=[lemmatizer.lemmatize(word=word,pos='v') for word in words]\n",
    "print(words, lemmatized_words)"
   ]
  },
  {
   "cell_type": "code",
   "execution_count": 55,
   "metadata": {},
   "outputs": [
    {
     "name": "stderr",
     "output_type": "stream",
     "text": [
      "[nltk_data] Downloading package stopwords to\n",
      "[nltk_data]     C:\\Users\\Administrator\\AppData\\Roaming\\nltk_data...\n",
      "[nltk_data]   Package stopwords is already up-to-date!\n"
     ]
    },
    {
     "data": {
      "text/plain": [
       "{'good': np.int64(4),\n",
       " 'boy': np.int64(0),\n",
       " 'good boy': np.int64(5),\n",
       " 'girl': np.int64(2),\n",
       " 'good girl': np.int64(6),\n",
       " 'boy girl': np.int64(1),\n",
       " 'girl good': np.int64(3)}"
      ]
     },
     "execution_count": 55,
     "metadata": {},
     "output_type": "execute_result"
    }
   ],
   "source": [
    "import nltk\n",
    "from nltk.tokenize import sent_tokenize, word_tokenize\n",
    "from nltk.stem import PorterStemmer\n",
    "from nltk.stem import WordNetLemmatizer\n",
    "import pandas as py\n",
    "\n",
    "newtext=\"\"\"I have three visions for India. In 3000 years of our history, people from all over\n",
    "               the world have come and invaded us, captured our lands, conquered our minds.\n",
    "               From Alexander onwards, the Greeks, the Turks, the Moguls, the Portuguese, the British,\n",
    "               the French, the Dutch, all of them came and looted us, took over what was ours.\n",
    "               Yet we have not done this to any other nation. We have not conquered anyone.\n",
    "               We have not grabbed their land, their culture,\n",
    "               their history and tried to enforce our way of life on them.\n",
    "               Why? Because we respect the freedom of others.That is why my\n",
    "               first vision is that of freedom. I believe that India got its first vision of\n",
    "               this in 1857, when we started the War of Independence. It is this freedom that\n",
    "               we must protect and nurture and build on. If we are not free, no one will respect us.\n",
    "               My second vision for India’s development. For fifty years we have been a developing nation.\n",
    "               It is time we see ourselves as a developed nation. We are among the top 5 nations of the world\n",
    "               in terms of GDP. We have a 10 percent growth rate in most areas. Our poverty levels are falling.\n",
    "               Our achievements are being globally recognised today. Yet we lack the self-confidence to\n",
    "               see ourselves as a developed nation, self-reliant and self-assured. Isn’t this incorrect?\n",
    "               I have a third vision. India must stand up to the world. Because I believe that unless India\n",
    "               stands up to the world, no one will respect us. Only strength respects strength. We must be\n",
    "               strong not only as a military power but also as an economic power. Both must go hand-in-hand.\n",
    "               My good fortune was to have worked with three great minds. Dr. Vikram Sarabhai of the Dept. of\n",
    "               space, Professor Satish Dhawan, who succeeded him and Dr. Brahm Prakash, father of nuclear material.\n",
    "               I was lucky to have worked with all three of them closely and consider this the great opportunity of my life.\n",
    "               I see four milestones in my career\"\"\"\n",
    "\n",
    "lower = newtext.lower()\n",
    "lower\n",
    "\n",
    "s1 = sent_tokenize(lower)\n",
    "s1\n",
    "\n",
    "s2 = word_tokenize(lower)\n",
    "s2\n",
    "\n",
    "p = PorterStemmer()\n",
    "\n",
    "stemnew= [p.stem(word = word) for word in s2]\n",
    "newdf = py.DataFrame({\"old\":s2 ,\"new\": stemnew})\n",
    "newdf\n",
    "\n",
    "l= WordNetLemmatizer()\n",
    "lemmnew = [l.lemmatize(word = word, pos ='v')for word in s2]\n",
    "new1df = py.DataFrame({\"old\":s2, \"new\": lemmnew})\n",
    "new1df\n",
    "\n",
    "\n"
   ]
  }
 ],
 "metadata": {
  "kernelspec": {
   "display_name": "intern_venv",
   "language": "python",
   "name": "python3"
  },
  "language_info": {
   "codemirror_mode": {
    "name": "ipython",
    "version": 3
   },
   "file_extension": ".py",
   "mimetype": "text/x-python",
   "name": "python",
   "nbconvert_exporter": "python",
   "pygments_lexer": "ipython3",
   "version": "3.12.6"
  }
 },
 "nbformat": 4,
 "nbformat_minor": 2
}
