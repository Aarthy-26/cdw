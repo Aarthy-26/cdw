{
 "cells": [
  {
   "cell_type": "markdown",
   "metadata": {},
   "source": [
    "##tokenization\n"
   ]
  },
  {
   "cell_type": "code",
   "execution_count": 8,
   "metadata": {},
   "outputs": [
    {
     "name": "stdout",
     "output_type": "stream",
     "text": [
      "['technology has become an integral part of our lives, shaping the way we work, communicate, and solve problems.', 'from the simplicity of automating mundane tasks to the complexity of advanced artificial intelligence systems, innovation continues to redefine our capabilities.', 'in fields like healthcare, robotics, and education, technology bridges gaps and creates opportunities that once seemed unimaginable.', 'however, as we embrace these advancements, it is equally important to consider their ethical implications and strive for a balance that benefits society as a whole.', 'by harnessing the power of technology responsibly, we can pave the way for a future that is not only efficient but also inclusive and sustainable.']\n",
      "['technology', 'has', 'become', 'an', 'integral', 'part', 'of', 'our', 'lives', ',', 'shaping', 'the', 'way', 'we', 'work', ',', 'communicate', ',', 'and', 'solve', 'problems', '.', 'from', 'the', 'simplicity', 'of', 'automating', 'mundane', 'tasks', 'to', 'the', 'complexity', 'of', 'advanced', 'artificial', 'intelligence', 'systems', ',', 'innovation', 'continues', 'to', 'redefine', 'our', 'capabilities', '.', 'in', 'fields', 'like', 'healthcare', ',', 'robotics', ',', 'and', 'education', ',', 'technology', 'bridges', 'gaps', 'and', 'creates', 'opportunities', 'that', 'once', 'seemed', 'unimaginable', '.', 'however', ',', 'as', 'we', 'embrace', 'these', 'advancements', ',', 'it', 'is', 'equally', 'important', 'to', 'consider', 'their', 'ethical', 'implications', 'and', 'strive', 'for', 'a', 'balance', 'that', 'benefits', 'society', 'as', 'a', 'whole', '.', 'by', 'harnessing', 'the', 'power', 'of', 'technology', 'responsibly', ',', 'we', 'can', 'pave', 'the', 'way', 'for', 'a', 'future', 'that', 'is', 'not', 'only', 'efficient', 'but', 'also', 'inclusive', 'and', 'sustainable', '.']\n"
     ]
    },
    {
     "name": "stderr",
     "output_type": "stream",
     "text": [
      "[nltk_data] Downloading package punkt_tab to\n",
      "[nltk_data]     C:\\Users\\Administrator\\AppData\\Roaming\\nltk_data...\n",
      "[nltk_data]   Package punkt_tab is already up-to-date!\n"
     ]
    }
   ],
   "source": [
    "import nltk\n",
    "nltk.download('punkt_tab')\n",
    "from nltk.tokenize import sent_tokenize, word_tokenize\n",
    "from nltk.stem import PorterStemmer\n",
    "\n",
    "mytext = \"\"\"Technology has become an integral part of our lives, shaping the way we work, communicate, and solve problems. From the simplicity of automating mundane tasks to the complexity of advanced artificial intelligence systems, innovation continues to redefine our capabilities. In fields like healthcare, robotics, and education, technology bridges gaps and creates opportunities that once seemed unimaginable. However, as we embrace these advancements, it is equally important to consider their ethical implications and strive for a balance that benefits society as a whole. By harnessing the power of technology responsibly, we can pave the way for a future that is not only efficient but also inclusive and sustainable.\"\"\"\n",
    "\n",
    "mytext=mytext.lower()\n",
    "sentence= sent_tokenize(mytext)\n",
    "print(sentence)\n",
    "\n",
    "b= word_tokenize(mytext)\n",
    "print(b)\n",
    "\n",
    "\n"
   ]
  },
  {
   "cell_type": "code",
   "execution_count": 9,
   "metadata": {},
   "outputs": [],
   "source": [
    "import nltk\n",
    "import pandas as pd\n",
    "from nltk.stem import PorterStemmer\n",
    "\n",
    "d = PorterStemmer()"
   ]
  },
  {
   "cell_type": "code",
   "execution_count": 10,
   "metadata": {},
   "outputs": [
    {
     "data": {
      "text/html": [
       "<div>\n",
       "<style scoped>\n",
       "    .dataframe tbody tr th:only-of-type {\n",
       "        vertical-align: middle;\n",
       "    }\n",
       "\n",
       "    .dataframe tbody tr th {\n",
       "        vertical-align: top;\n",
       "    }\n",
       "\n",
       "    .dataframe thead th {\n",
       "        text-align: right;\n",
       "    }\n",
       "</style>\n",
       "<table border=\"1\" class=\"dataframe\">\n",
       "  <thead>\n",
       "    <tr style=\"text-align: right;\">\n",
       "      <th></th>\n",
       "      <th>ori</th>\n",
       "      <th>new</th>\n",
       "    </tr>\n",
       "  </thead>\n",
       "  <tbody>\n",
       "    <tr>\n",
       "      <th>0</th>\n",
       "      <td>connect</td>\n",
       "      <td>connect</td>\n",
       "    </tr>\n",
       "    <tr>\n",
       "      <th>1</th>\n",
       "      <td>connecting</td>\n",
       "      <td>connect</td>\n",
       "    </tr>\n",
       "    <tr>\n",
       "      <th>2</th>\n",
       "      <td>conect</td>\n",
       "      <td>conect</td>\n",
       "    </tr>\n",
       "    <tr>\n",
       "      <th>3</th>\n",
       "      <td>connected</td>\n",
       "      <td>connect</td>\n",
       "    </tr>\n",
       "    <tr>\n",
       "      <th>4</th>\n",
       "      <td>connection</td>\n",
       "      <td>connect</td>\n",
       "    </tr>\n",
       "  </tbody>\n",
       "</table>\n",
       "</div>"
      ],
      "text/plain": [
       "          ori      new\n",
       "0     connect  connect\n",
       "1  connecting  connect\n",
       "2      conect   conect\n",
       "3   connected  connect\n",
       "4  connection  connect"
      ]
     },
     "execution_count": 10,
     "metadata": {},
     "output_type": "execute_result"
    }
   ],
   "source": [
    "words=[\"connect\",\"connecting\",\"conect\",\"connected\",\"connection\"]\n",
    "stemmer= [d.stem(word=word) for word in words]\n",
    "\n",
    "stemdf =pd.DataFrame({\"ori\":words, \"new\":stemmer})\n",
    "stemdf"
   ]
  },
  {
   "cell_type": "code",
   "execution_count": 11,
   "metadata": {},
   "outputs": [
    {
     "name": "stdout",
     "output_type": "stream",
     "text": [
      "['trouble', 'troubling', 'troubled', 'troubles', 'dogs', 'cats'] ['trouble', 'trouble', 'trouble', 'trouble', 'dog', 'cat']\n"
     ]
    },
    {
     "name": "stderr",
     "output_type": "stream",
     "text": [
      "[nltk_data] Downloading package wordnet to\n",
      "[nltk_data]     C:\\Users\\Administrator\\AppData\\Roaming\\nltk_data...\n",
      "[nltk_data]   Package wordnet is already up-to-date!\n"
     ]
    }
   ],
   "source": [
    "from nltk.stem import WordNetLemmatizer\n",
    "nltk.download('wordnet')\n",
    "\n",
    "# init lemmatizer\n",
    "lemmatizer = WordNetLemmatizer()\n",
    "words=[\"trouble\",\"troubling\",\"troubled\",\"troubles\",\"dogs\", \"cats\"]\n",
    "lemmatized_words=[lemmatizer.lemmatize(word=word,pos='v') for word in words]\n",
    "print(words, lemmatized_words)"
   ]
  },
  {
   "cell_type": "code",
   "execution_count": null,
   "metadata": {},
   "outputs": [],
   "source": []
  },
  {
   "cell_type": "code",
   "execution_count": null,
   "metadata": {},
   "outputs": [],
   "source": []
  }
 ],
 "metadata": {
  "kernelspec": {
   "display_name": "intern_venv",
   "language": "python",
   "name": "python3"
  },
  "language_info": {
   "codemirror_mode": {
    "name": "ipython",
    "version": 3
   },
   "file_extension": ".py",
   "mimetype": "text/x-python",
   "name": "python",
   "nbconvert_exporter": "python",
   "pygments_lexer": "ipython3",
   "version": "3.12.6"
  }
 },
 "nbformat": 4,
 "nbformat_minor": 2
}
